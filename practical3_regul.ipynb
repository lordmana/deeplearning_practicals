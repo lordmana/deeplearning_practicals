{
  "cells": [
    {
      "cell_type": "markdown",
      "metadata": {
        "id": "qMKRFwr_m6Bu"
      },
      "source": [
        "# Deep Learning\n",
        "## Practical Session 03\n",
        "Görkem Saygili & Busra Ozgode Yigin, Department of Cognitive Science and Artificial Intelligence – Tilburg University"
      ]
    },
    {
      "cell_type": "markdown",
      "metadata": {
        "id": "ZjqvYHY4m4zf"
      },
      "source": [
        "# Regularization\n",
        "\n",
        "Today, we will see strategies to prevent a model from overfitting, also known as regularization techniques. We will cover some of the most common ones:\n",
        "\n",
        "* early stopping\n",
        "* adjusting the size of the network\n",
        "* weight regularization\n",
        "* dropout\n",
        "\n",
        "## Classifying movie reviews: the IMDB dataset\n",
        "\n",
        "The example we will use to illustrate this is the \"IMDB dataset\", a set of 50,000 highly-polarized reviews from the Internet Movie Database. They are split into 25,000 \n",
        "reviews for training and 25,000 reviews for testing, each set consisting in 50% negative and 50% positive reviews.\n",
        "\n",
        "Just like the MNIST dataset, the IMDB dataset comes packaged with Keras. It has already been preprocessed: the reviews (sequences of words) have been turned into sequences of integers, where each integer stands for a specific word in a dictionary.\n",
        "\n",
        "The following code will load the dataset:"
      ]
    },
    {
      "cell_type": "code",
      "execution_count": null,
      "metadata": {
        "id": "70ElcHMsmEUD"
      },
      "outputs": [],
      "source": [
        "pip install tensorflow"
      ]
    },
    {
      "cell_type": "code",
      "execution_count": 1,
      "metadata": {
        "id": "Dy9ARrdvm4zr"
      },
      "outputs": [
        {
          "name": "stderr",
          "output_type": "stream",
          "text": [
            "2024-09-19 15:26:47.879831: I tensorflow/core/platform/cpu_feature_guard.cc:182] This TensorFlow binary is optimized to use available CPU instructions in performance-critical operations.\n",
            "To enable the following instructions: SSE4.1 SSE4.2 AVX AVX2 FMA, in other operations, rebuild TensorFlow with the appropriate compiler flags.\n"
          ]
        },
        {
          "name": "stdout",
          "output_type": "stream",
          "text": [
            "Downloading data from https://storage.googleapis.com/tensorflow/tf-keras-datasets/imdb.npz\n",
            "17464789/17464789 [==============================] - 1s 0us/step\n"
          ]
        }
      ],
      "source": [
        "from tensorflow.keras.datasets import imdb\n",
        "\n",
        "# Remove some unwanted warnings\n",
        "import logging\n",
        "logging.getLogger('tensorflow').disabled = True \n",
        "\n",
        "nb_words = 2500\n",
        "(train_data, train_labels), (test_data, test_labels) = imdb.load_data(num_words=nb_words)\n",
        "# Reducing the size of the dataset\n",
        "train_data = train_data[:5000]\n",
        "train_labels = train_labels[:5000]\n",
        "test_data = test_data[:5000]\n",
        "test_labels = test_labels[:5000]"
      ]
    },
    {
      "cell_type": "markdown",
      "metadata": {
        "id": "V620yiGhm4zu"
      },
      "source": [
        "The argument `num_words=2500` means that we will only keep the top 2,500 most frequently occurring words in the training data. Rare words will be discarded. This allows us to work with vector data of manageable size.\n",
        "\n",
        "The variables `train_data` and `test_data` are lists of reviews, each review being a list of word indices (encoding a sequence of words). `train_labels` and `test_labels` are lists of 0s and 1s, where 0 stands for \"negative\" and 1 stands for \"positive\":"
      ]
    },
    {
      "cell_type": "code",
      "execution_count": 2,
      "metadata": {
        "id": "UebPVhk2m4zw",
        "scrolled": true
      },
      "outputs": [
        {
          "data": {
            "text/plain": [
              "[1,\n",
              " 14,\n",
              " 22,\n",
              " 16,\n",
              " 43,\n",
              " 530,\n",
              " 973,\n",
              " 1622,\n",
              " 1385,\n",
              " 65,\n",
              " 458,\n",
              " 2,\n",
              " 66,\n",
              " 2,\n",
              " 4,\n",
              " 173,\n",
              " 36,\n",
              " 256,\n",
              " 5,\n",
              " 25,\n",
              " 100,\n",
              " 43,\n",
              " 838,\n",
              " 112,\n",
              " 50,\n",
              " 670,\n",
              " 2,\n",
              " 9,\n",
              " 35,\n",
              " 480,\n",
              " 284,\n",
              " 5,\n",
              " 150,\n",
              " 4,\n",
              " 172,\n",
              " 112,\n",
              " 167,\n",
              " 2,\n",
              " 336,\n",
              " 385,\n",
              " 39,\n",
              " 4,\n",
              " 172,\n",
              " 2,\n",
              " 1111,\n",
              " 17,\n",
              " 546,\n",
              " 38,\n",
              " 13,\n",
              " 447,\n",
              " 4,\n",
              " 192,\n",
              " 50,\n",
              " 16,\n",
              " 6,\n",
              " 147,\n",
              " 2025,\n",
              " 19,\n",
              " 14,\n",
              " 22,\n",
              " 4,\n",
              " 1920,\n",
              " 2,\n",
              " 469,\n",
              " 4,\n",
              " 22,\n",
              " 71,\n",
              " 87,\n",
              " 12,\n",
              " 16,\n",
              " 43,\n",
              " 530,\n",
              " 38,\n",
              " 76,\n",
              " 15,\n",
              " 13,\n",
              " 1247,\n",
              " 4,\n",
              " 22,\n",
              " 17,\n",
              " 515,\n",
              " 17,\n",
              " 12,\n",
              " 16,\n",
              " 626,\n",
              " 18,\n",
              " 2,\n",
              " 5,\n",
              " 62,\n",
              " 386,\n",
              " 12,\n",
              " 8,\n",
              " 316,\n",
              " 8,\n",
              " 106,\n",
              " 5,\n",
              " 4,\n",
              " 2223,\n",
              " 2,\n",
              " 16,\n",
              " 480,\n",
              " 66,\n",
              " 2,\n",
              " 33,\n",
              " 4,\n",
              " 130,\n",
              " 12,\n",
              " 16,\n",
              " 38,\n",
              " 619,\n",
              " 5,\n",
              " 25,\n",
              " 124,\n",
              " 51,\n",
              " 36,\n",
              " 135,\n",
              " 48,\n",
              " 25,\n",
              " 1415,\n",
              " 33,\n",
              " 6,\n",
              " 22,\n",
              " 12,\n",
              " 215,\n",
              " 28,\n",
              " 77,\n",
              " 52,\n",
              " 5,\n",
              " 14,\n",
              " 407,\n",
              " 16,\n",
              " 82,\n",
              " 2,\n",
              " 8,\n",
              " 4,\n",
              " 107,\n",
              " 117,\n",
              " 2,\n",
              " 15,\n",
              " 256,\n",
              " 4,\n",
              " 2,\n",
              " 7,\n",
              " 2,\n",
              " 5,\n",
              " 723,\n",
              " 36,\n",
              " 71,\n",
              " 43,\n",
              " 530,\n",
              " 476,\n",
              " 26,\n",
              " 400,\n",
              " 317,\n",
              " 46,\n",
              " 7,\n",
              " 4,\n",
              " 2,\n",
              " 1029,\n",
              " 13,\n",
              " 104,\n",
              " 88,\n",
              " 4,\n",
              " 381,\n",
              " 15,\n",
              " 297,\n",
              " 98,\n",
              " 32,\n",
              " 2071,\n",
              " 56,\n",
              " 26,\n",
              " 141,\n",
              " 6,\n",
              " 194,\n",
              " 2,\n",
              " 18,\n",
              " 4,\n",
              " 226,\n",
              " 22,\n",
              " 21,\n",
              " 134,\n",
              " 476,\n",
              " 26,\n",
              " 480,\n",
              " 5,\n",
              " 144,\n",
              " 30,\n",
              " 2,\n",
              " 18,\n",
              " 51,\n",
              " 36,\n",
              " 28,\n",
              " 224,\n",
              " 92,\n",
              " 25,\n",
              " 104,\n",
              " 4,\n",
              " 226,\n",
              " 65,\n",
              " 16,\n",
              " 38,\n",
              " 1334,\n",
              " 88,\n",
              " 12,\n",
              " 16,\n",
              " 283,\n",
              " 5,\n",
              " 16,\n",
              " 2,\n",
              " 113,\n",
              " 103,\n",
              " 32,\n",
              " 15,\n",
              " 16,\n",
              " 2,\n",
              " 19,\n",
              " 178,\n",
              " 32]"
            ]
          },
          "execution_count": 2,
          "metadata": {},
          "output_type": "execute_result"
        }
      ],
      "source": [
        "train_data[0]"
      ]
    },
    {
      "cell_type": "code",
      "execution_count": null,
      "metadata": {
        "id": "U9jbIHUQm4zx"
      },
      "outputs": [],
      "source": [
        "train_labels[0]"
      ]
    },
    {
      "cell_type": "markdown",
      "metadata": {
        "id": "xjL8h8b1m4zz"
      },
      "source": [
        "Since we restricted ourselves to the top 2,500 most frequent words, no word index will exceed 2,499:"
      ]
    },
    {
      "cell_type": "code",
      "execution_count": 3,
      "metadata": {
        "id": "hC3RmfEim4z1"
      },
      "outputs": [
        {
          "data": {
            "text/plain": [
              "2499"
            ]
          },
          "execution_count": 3,
          "metadata": {},
          "output_type": "execute_result"
        }
      ],
      "source": [
        "max([max(sequence) for sequence in train_data])"
      ]
    },
    {
      "cell_type": "markdown",
      "metadata": {
        "id": "j1Kwth5Sm4z4"
      },
      "source": [
        "For kicks, here's how you can quickly decode one of these reviews back to English words:"
      ]
    },
    {
      "cell_type": "code",
      "execution_count": 4,
      "metadata": {
        "id": "qsbUZPQwm4z5"
      },
      "outputs": [
        {
          "name": "stdout",
          "output_type": "stream",
          "text": [
            "Downloading data from https://storage.googleapis.com/tensorflow/tf-keras-datasets/imdb_word_index.json\n",
            "1641221/1641221 [==============================] - 0s 0us/step\n"
          ]
        }
      ],
      "source": [
        "# word_index is a dictionary mapping words to an integer index\n",
        "word_index = imdb.get_word_index()\n",
        "# We reverse it, mapping integer indices to words\n",
        "reverse_word_index = dict([(value, key) for (key, value) in word_index.items()])\n",
        "# We decode the review; note that our indices were offset by 3\n",
        "# because 0, 1 and 2 are reserved indices for \"padding\", \"start of sequence\", and \"unknown\".\n",
        "decoded_review = ' '.join([reverse_word_index.get(i - 3, '?') for i in train_data[0]])"
      ]
    },
    {
      "cell_type": "code",
      "execution_count": 5,
      "metadata": {
        "id": "ahoXgLfNm4z7"
      },
      "outputs": [
        {
          "data": {
            "text/plain": [
              "\"? this film was just brilliant casting location scenery story direction ? really ? the part they played and you could just imagine being there robert ? is an amazing actor and now the same being director ? father came from the same ? island as myself so i loved the fact there was a real connection with this film the witty ? throughout the film were great it was just brilliant so much that i bought the film as soon as it was released for ? and would recommend it to everyone to watch and the fly ? was amazing really ? at the end it was so sad and you know what they say if you cry at a film it must have been good and this definitely was also ? to the two little ? that played the ? of ? and paul they were just brilliant children are often left out of the ? list i think because the stars that play them all grown up are such a big ? for the whole film but these children are amazing and should be ? for what they have done don't you think the whole story was so lovely because it was true and was ? life after all that was ? with us all\""
            ]
          },
          "execution_count": 5,
          "metadata": {},
          "output_type": "execute_result"
        }
      ],
      "source": [
        "decoded_review"
      ]
    },
    {
      "cell_type": "markdown",
      "metadata": {
        "id": "ypahFzKgm4z9"
      },
      "source": [
        "### Exercise 1 - Preparing the data\n",
        "\n",
        "\n",
        "We cannot feed lists of integers into a neural network. We have to turn our lists into tensors. There are two ways we could do that:\n",
        "\n",
        "* We could pad our lists so that they all have the same length, and turn them into an integer tensor of shape `(samples, word_indices)`, then use as first layer in our network a layer capable of handling such integer tensors (e.g the `Embedding` layer).\n",
        "* We could one-hot-encode our lists to turn them into vectors of 0s and 1s. Concretely, this would mean for instance turning the sequence `[3, 5]` into a 2,500-dimensional vector that would be all-zeros except for indices 3 and 5, which would be ones. This is similar to the one-hot encodings we already used as targets in the multi-class classification task, except that here, several positions can hold a one at the same time. Then we could use as first layer in our network a `Dense` layer, capable of handling floating point vector data.\n",
        "\n",
        "We will go with the latter solution. Let's vectorize our data, which we will do manually for maximum clarity:"
      ]
    },
    {
      "cell_type": "code",
      "execution_count": 6,
      "metadata": {
        "id": "_7vGiIHKm4z-"
      },
      "outputs": [
        {
          "ename": "ValueError",
          "evalue": "operands could not be broadcast together with shapes (2500,) (5000,) ",
          "output_type": "error",
          "traceback": [
            "\u001b[0;31m---------------------------------------------------------------------------\u001b[0m",
            "\u001b[0;31mValueError\u001b[0m                                Traceback (most recent call last)",
            "Cell \u001b[0;32mIn[6], line 14\u001b[0m\n\u001b[1;32m      9\u001b[0m     zeros \u001b[38;5;241m=\u001b[39m ones \u001b[38;5;241m*\u001b[39m sequences\n\u001b[1;32m     11\u001b[0m     \u001b[38;5;66;03m### END ###\u001b[39;00m\n\u001b[1;32m     12\u001b[0m \n\u001b[1;32m     13\u001b[0m \u001b[38;5;66;03m# Our vectorized training data\u001b[39;00m\n\u001b[0;32m---> 14\u001b[0m x_train \u001b[38;5;241m=\u001b[39m vectorize_sequences(train_data)\n\u001b[1;32m     15\u001b[0m \u001b[38;5;66;03m# Our vectorized test data\u001b[39;00m\n\u001b[1;32m     16\u001b[0m x_test \u001b[38;5;241m=\u001b[39m vectorize_sequences(test_data)\n",
            "Cell \u001b[0;32mIn[6], line 9\u001b[0m, in \u001b[0;36mvectorize_sequences\u001b[0;34m(sequences, dimension)\u001b[0m\n\u001b[1;32m      6\u001b[0m \u001b[38;5;66;03m### PUT YOUR CODE HERE ###\u001b[39;00m\n\u001b[1;32m      7\u001b[0m \u001b[38;5;66;03m# Create an all-zero matrix of shape (len(sequences), dimension)\u001b[39;00m\n\u001b[1;32m      8\u001b[0m ones \u001b[38;5;241m=\u001b[39m np\u001b[38;5;241m.\u001b[39mones(dimension)\n\u001b[0;32m----> 9\u001b[0m zeros \u001b[38;5;241m=\u001b[39m ones \u001b[38;5;241m*\u001b[39m sequences\n",
            "\u001b[0;31mValueError\u001b[0m: operands could not be broadcast together with shapes (2500,) (5000,) "
          ]
        }
      ],
      "source": [
        "import numpy as np\n",
        "\n",
        "def vectorize_sequences(sequences, dimension=nb_words):\n",
        "    ''' Returns a vector of zeros, except for indices corresponding to the words \n",
        "    in sequence that are set to one '''\n",
        "    ### PUT YOUR CODE HERE ###\n",
        "    # Create an all-zero matrix of shape (len(sequences), dimension)\n",
        "    ones = np.ones(dimension)\n",
        "    zeros = ones * sequences\n",
        "    return ones\n",
        "    ### END ###\n",
        "\n",
        "# Our vectorized training data\n",
        "x_train = vectorize_sequences(train_data)\n",
        "# Our vectorized test data\n",
        "x_test = vectorize_sequences(test_data)"
      ]
    },
    {
      "cell_type": "markdown",
      "metadata": {
        "id": "JCey677am40A"
      },
      "source": [
        "Here's what our samples look like now:"
      ]
    },
    {
      "cell_type": "code",
      "execution_count": null,
      "metadata": {
        "id": "iFXEC9mEm40B"
      },
      "outputs": [],
      "source": [
        "x_train[0]"
      ]
    },
    {
      "cell_type": "markdown",
      "metadata": {
        "id": "YejsmEjPm40C"
      },
      "source": [
        "We should also vectorize our labels, which is straightforward:"
      ]
    },
    {
      "cell_type": "code",
      "execution_count": null,
      "metadata": {
        "id": "IiDCL-aNm40C"
      },
      "outputs": [],
      "source": [
        "# Our vectorized labels\n",
        "y_train = np.asarray(train_labels).astype('float32')\n",
        "y_test = np.asarray(test_labels).astype('float32')"
      ]
    },
    {
      "cell_type": "markdown",
      "metadata": {
        "id": "Pbt1IyVkm40D"
      },
      "source": [
        "Now our data is ready to be fed into a neural network."
      ]
    },
    {
      "cell_type": "markdown",
      "metadata": {
        "id": "VlhUmQKem40D"
      },
      "source": [
        "### Exercise 2 - Building our network\n",
        "\n",
        "\n",
        "Our input data is simply vectors, and our labels are scalars (1s and 0s): a type of network that performs well on such a problem would be a simple stack of fully-connected layers. By now, you should be able to implement the model by yourself. As we are going to instantiate several models, wrap the code in a function that takes the number of units as a parameter. The neural network should have two hidden layers with `relu` activations. Don't forget to compile the model."
      ]
    },
    {
      "cell_type": "code",
      "execution_count": null,
      "metadata": {
        "id": "rJbtz1jCm40E"
      },
      "outputs": [],
      "source": [
        "from tensorflow.keras import models\n",
        "from tensorflow.keras import layers\n",
        "\n",
        "def build_model(nb_units=16):\n",
        "    ### PUT YOUR CODE HERE ###\n",
        "    ### END ###"
      ]
    },
    {
      "cell_type": "markdown",
      "metadata": {
        "id": "6g-8stHam40F"
      },
      "source": [
        "### Exercise 3 - Validating our approach\n",
        "\n",
        "We will create a validation set by setting apart 1,000 samples from the original training data:"
      ]
    },
    {
      "cell_type": "code",
      "execution_count": null,
      "metadata": {
        "id": "TPlsZshOm40F"
      },
      "outputs": [],
      "source": [
        "x_val = x_train[:1000]\n",
        "partial_x_train = x_train[1000:]\n",
        "\n",
        "y_val = y_train[:1000]\n",
        "partial_y_train = y_train[1000:]"
      ]
    },
    {
      "cell_type": "markdown",
      "metadata": {
        "id": "DfPrH523m40G"
      },
      "source": [
        "We will now train our model for 20 epochs, in mini-batches of 128 samples. At the same time we will monitor loss and accuracy on the 1,000 samples that we set apart."
      ]
    },
    {
      "cell_type": "code",
      "execution_count": null,
      "metadata": {
        "id": "BmD61Jgsm40G"
      },
      "outputs": [],
      "source": [
        "model = build_model()\n",
        "original_hist = model.fit(partial_x_train,\n",
        "                          partial_y_train,\n",
        "                          epochs=20,\n",
        "                          batch_size=128,\n",
        "                          validation_data=(x_val, y_val),\n",
        "                          verbose=0)"
      ]
    },
    {
      "cell_type": "markdown",
      "metadata": {
        "id": "95rco9-Um40H"
      },
      "source": [
        "Remember that to call the `model.fit()` returns a `History` object. This object has a member `history`, which is a dictionary containing data about everything that happened during training. Let's take a look at it:"
      ]
    },
    {
      "cell_type": "code",
      "execution_count": null,
      "metadata": {
        "id": "Yeueq0rKm40H"
      },
      "outputs": [],
      "source": [
        "history_dict = original_hist.history\n",
        "history_dict.keys()"
      ]
    },
    {
      "cell_type": "markdown",
      "metadata": {
        "id": "3sz6m0V3m40H"
      },
      "source": [
        "In our case, it contains 4 entries: one for the loss + one per metric that was being monitored, for both training and validation sets. Let's plot the training and validation loss toghether, as well as the training and validation accuracy (on a second plot). For this, you can use the utility function `plot_history()` defined in `plot_history.py` (don't forget to upload the file if you are working on the server)."
      ]
    },
    {
      "cell_type": "code",
      "execution_count": null,
      "metadata": {
        "id": "fHdxW1DXm40I"
      },
      "outputs": [],
      "source": [
        "%matplotlib inline\n",
        "from plot_history import plot_history\n",
        "\n",
        "import sys    \n",
        "path_to_module = '/content/drive/.../'\n",
        "sys.path.append(path_to_module)\n",
        "\n",
        "### PUT YOUR CODE HERE ###\n",
        "### END ###"
      ]
    },
    {
      "cell_type": "markdown",
      "metadata": {
        "id": "pTXkc92Ym40I"
      },
      "source": [
        "The blue lines are the training loss and accuracy, while the orange ones are the validation loss and accuracy.\n",
        "\n",
        "As you can see, the training loss decreases with every epoch and the training accuracy increases with every epoch. That's what you would expect when running gradient descent optimization -- the quantity you are trying to minimize should get lower with every iteration. But that isn't the case for the validation loss and accuracy: they seem to peak at the fourth epoch. That is why a validation set is so important: a model that performs better on the training data isn't necessarily a model that will do better on data it has never seen before. In precise terms, what you are seeing is \"overfitting\": after the fourth epoch, we are over-optimizing on the training data, and we ended up learning representations that are specific to the training data and do not generalize to data outside of the training set.\n",
        "\n",
        "While we can simply prevent overfitting with early stopping, i.e. by stoping training after four epochs (as we will do in a first attempt), there is a range of more advanced techniques you can leverage to mitigate overfitting. We will cover some of them in the rest of this tutorial.\n",
        "\n",
        "But for now, let's train a new network from scratch for four epochs, then evaluate it on our test data:"
      ]
    },
    {
      "cell_type": "code",
      "execution_count": null,
      "metadata": {
        "id": "g7UrfFhJm40J"
      },
      "outputs": [],
      "source": [
        "model = build_model()\n",
        "model.fit(x_train, y_train, epochs=4, batch_size=128, verbose=0)\n",
        "results = model.evaluate(x_test, y_test)"
      ]
    },
    {
      "cell_type": "code",
      "execution_count": null,
      "metadata": {
        "id": "Ld7uEYSdm40J"
      },
      "outputs": [],
      "source": [
        "results"
      ]
    },
    {
      "cell_type": "markdown",
      "metadata": {
        "id": "p6M3M3Qnm40J"
      },
      "source": [
        "Our fairly naive approach achieves an accuracy of ~84%."
      ]
    },
    {
      "cell_type": "markdown",
      "metadata": {
        "id": "59wXQtMJm40K"
      },
      "source": [
        "## Fighting overfitting\n",
        "\n",
        "In the example we just explored, as well as other examples we have seeen in the past weeks (e.g.the Boston house price regression problem), we could notice that the performance of our model on the held-out validation data would always peak after a few epochs and would then start degrading. Said otherwise, our model would quickly start to _overfit_ to the training data. Overfitting happens in every single machine learning problem. Learning how to deal with overfitting is essential to mastering machine learning.\n",
        "\n",
        "The fundamental issue in machine learning is the tension between optimization and generalization. \"Optimization\" refers to the process of adjusting a model to get the best performance possible on the training data (the \"learning\" in \"machine learning\"), while \"generalization\" refers to how well the trained model would perform on data it has never seen before. The goal of the game is to get good generalization, of course, but you do not control generalization directly; you can only adjust the model based on its training data.\n",
        "\n",
        "At the beginning of training, optimization and generalization are correlated: the lower your loss on training data, the lower your loss on test data. While this is happening, your model is said to be _under-fit_ : there is still progress to be made; the network hasn't yet modeled all relevant patterns in the training data. But after a certain number of iterations on the training data, generalization stops improving, validation metrics stall, then start degrading: the model is then starting to over-fit, i.e. is it starting to learn patterns that are specific to the training data but that are misleading or irrelevant when it comes to new data.\n",
        "\n",
        "To prevent a model from learning misleading or irrelevant patterns found in the training data, _the best solution is of course to get more training data_. A model trained on more data will naturally generalize better. When that is no longer possible, the next best solution is to modulate the quantity of information that your model is allowed to store, or to add constraints on what information it is allowed to store. If a network can only afford to memorize a small number of patterns, the optimization process will force it to focus on the most prominent patterns, which have a better chance of generalizing well.\n",
        "\n",
        "The process of fighting overfitting in this way is called _regularization_. Let's review some of the most common regularization techniques, and let's apply them in practice to improve our movie classification model."
      ]
    },
    {
      "cell_type": "markdown",
      "metadata": {
        "id": "Tlp7YizVm40K"
      },
      "source": [
        "### Exercise 4 - Reducing the network's size\n",
        "\n",
        "\n",
        "The simplest way to prevent overfitting is to reduce the size of the model, i.e. the number of learnable parameters in the model (which is determined by the number of layers and the number of units per layer). In deep learning, the number of learnable parameters in a model is often referred to as the model's \"capacity\". Intuitively, a model with more parameters will have more \"memorization capacity\" and therefore will be able to easily learn a perfect dictionary-like mapping between training samples and their targets, a mapping without any generalization power. Always keep this in mind: deep learning models tend to be good at fitting the training data, but the real challenge is generalization, not fitting.\n",
        "\n",
        "On the other hand, if the network has limited memorization resources, it will not be able to learn this mapping as easily, and thus, in order to minimize its loss, it will have to resort to learning compressed representations that have predictive power regarding the targets -- precisely the type of representations that we are interested in. At the same time, keep in mind that you should be using models that have enough parameters that they won't be underfitting: your model shouldn't be starved for memorization resources. There is a compromise to be found between \"too much capacity\" and \"not enough capacity\".\n",
        "\n",
        "Unfortunately, there is no magical formula to determine what the right number of layers is, or what the right size for each layer is. You will have to evaluate an array of different architectures (on your validation set, not on your test set, of course) in order to find the right model size for your data. The general workflow to find an appropriate model size is to start with relatively few layers and parameters, and start increasing the size of the layers or adding new layers until you see diminishing returns with regard to the validation loss.\n",
        "\n",
        "Let's try this on our movie review classification network. Our original network, a two hidden layer network with 16 units per hidden layer, was able to reach ~84% of accuracy. Let's try replacing it with a smaller network that has only 4 units per hidden layer. Let's also add to this benchmark a network that has much more capacity, far more than the problem would warrant: 256 units per hidden layer. Create and train the two models, then plot the validation loss of the three architectures."
      ]
    },
    {
      "cell_type": "code",
      "execution_count": null,
      "metadata": {
        "id": "Nv4r1qRYm40L"
      },
      "outputs": [],
      "source": [
        "### PUT YOUR CODE HERE ###\n",
        "### END ###"
      ]
    },
    {
      "cell_type": "markdown",
      "metadata": {
        "id": "hKcxpXJEm40L"
      },
      "source": [
        "\n",
        "As you can see, the smaller network starts overfitting later than the reference one (after 10/11 epochs rather than 4) and its performance degrades much more slowly once it starts overfitting. The bigger network, on the other hand starts overfitting earlier, and overfits much more severely. Its validation loss also tends to be more noisy.\n",
        "\n",
        "Meanwhile, here are the training losses for our three networks:"
      ]
    },
    {
      "cell_type": "code",
      "execution_count": null,
      "metadata": {
        "id": "UMMpWkoom40L"
      },
      "outputs": [],
      "source": [
        "### PUT YOUR CODE HERE ###\n",
        "### END ###"
      ]
    },
    {
      "cell_type": "markdown",
      "metadata": {
        "id": "6LsuLpjFm40M"
      },
      "source": [
        "As you can see, the bigger network gets its training loss near zero very quickly. The more capacity the network has, the quicker it will be \n",
        "able to model the training data (resulting in a low training loss), but the more susceptible it is to overfitting (resulting in a large \n",
        "difference between the training and validation loss)."
      ]
    },
    {
      "cell_type": "markdown",
      "metadata": {
        "id": "gknSXvrMm40M"
      },
      "source": [
        "### Exercise 5 - Adding weight regularization\n",
        "\n",
        "\n",
        "You may be familiar with _Occam's Razor_ principle: given two explanations for something, the explanation most likely to be correct is the \n",
        "\"simplest\" one, the one that makes the least amount of assumptions. This also applies to the models learned by neural networks: given some \n",
        "training data and a network architecture, there are multiple sets of weights values (multiple _models_ ) that could explain the data, and \n",
        "simpler models are less likely to overfit than complex ones.\n",
        "\n",
        "A \"simple model\" in this context is a model where the distribution of parameter values has less entropy (or a model with fewer \n",
        "parameters altogether, as we saw in the section above). Thus a common way to mitigate overfitting is to put constraints on the complexity \n",
        "of a network by forcing its weights to only take small values, which makes the distribution of weight values more \"regular\". This is called \n",
        "\"weight regularization\", and it is done by adding to the loss function of the network a _cost_ associated with having large weights. This \n",
        "cost comes in two flavors:\n",
        "\n",
        "* L1 regularization, where the cost added is proportional to the _absolute value of the weights coefficients_ (i.e. to what is called the \n",
        "\"L1 norm\" of the weights).\n",
        "* L2 regularization, where the cost added is proportional to the _square of the value of the weights coefficients_ (i.e. to what is called \n",
        "the \"L2 norm\" of the weights). L2 regularization is also called _weight decay_ in the context of neural networks. Don't let the different \n",
        "name confuse you: weight decay is mathematically the exact same as L2 regularization.\n",
        "\n",
        "In Keras, weight regularization is added by passing _weight regularizer instances_ to layers as keyword arguments (https://keras.io/regularizers). Let's add regularization as a new parameter of the network building function:"
      ]
    },
    {
      "cell_type": "code",
      "execution_count": null,
      "metadata": {
        "id": "D7NWSHDjm40M"
      },
      "outputs": [],
      "source": [
        "from tensorflow.keras import regularizers\n",
        "\n",
        "def build_regularized_model(nb_units=16, regularizer=regularizers.l2(0.001)):\n",
        "    ### PUT YOUR CODE HERE ###\n",
        "    ### END ###"
      ]
    },
    {
      "cell_type": "markdown",
      "metadata": {
        "id": "_LtCCyEHm40N"
      },
      "source": [
        "`l2(0.001)` means that every coefficient in the weight matrix of the layer will add `0.001 * weight_coefficient_value` to the total loss of \n",
        "the network.\n",
        "\n",
        "Here's the impact of our L2 regularization penalty:"
      ]
    },
    {
      "cell_type": "code",
      "execution_count": null,
      "metadata": {
        "id": "WYxGg9Nlm40N"
      },
      "outputs": [],
      "source": [
        "l2_model = build_regularized_model()\n",
        "l2_model_hist = l2_model.fit(partial_x_train, partial_y_train,\n",
        "                             epochs=20,\n",
        "                             batch_size=128,\n",
        "                             validation_data=(x_val, y_val),\n",
        "                             verbose=0)"
      ]
    },
    {
      "cell_type": "code",
      "execution_count": null,
      "metadata": {
        "id": "IyRHyjUGm40N"
      },
      "outputs": [],
      "source": [
        "l2_model_val_loss = l2_model_hist.history['val_loss']\n",
        "\n",
        "plot_history(data_list=[original_val_loss, l2_model_val_loss],\n",
        "             label_list=['Original model', 'L2-regularized model'],\n",
        "             title='Comparison of validation losses',\n",
        "             ylabel='Validation loss')"
      ]
    },
    {
      "cell_type": "markdown",
      "metadata": {
        "id": "Ec18WfQbm40N"
      },
      "source": [
        "As you can see, the model with L2 regularization has become much more resistant to overfitting than the reference model (crosses), even though both models have the same number of parameters.\n",
        "\n",
        "As alternatives to L2 regularization, you could use one of the following Keras weight regularizers:"
      ]
    },
    {
      "cell_type": "code",
      "execution_count": null,
      "metadata": {
        "id": "qaglO1EMm40O"
      },
      "outputs": [],
      "source": [
        "from tensorflow.keras import regularizers\n",
        "\n",
        "# L1 regularization\n",
        "regularizers.l1(0.001)\n",
        "\n",
        "# L1 and L2 regularization at the same time\n",
        "regularizers.l1_l2(l1=0.001, l2=0.001)"
      ]
    },
    {
      "cell_type": "markdown",
      "metadata": {
        "id": "nJFfKIF0m40O"
      },
      "source": [
        "#### Developing new regularizers\n",
        "\n",
        "Any function that takes in a weight matrix and returns a loss contribution tensor can be used as a regularizer. As an exercise, we will reimplement the L2 regularizer by ourselves. As a reminder, here is it's definition:\n",
        "\n",
        "<br>\n",
        "<center>\n",
        "$ L2(W) = \\lambda \\sum\\limits_{w\\in W} w^2, $\n",
        "</center>\n",
        "\n",
        "where $W$ is the matrix of weights to regularize and $\\lambda$ is the coefficient that regulates the contribution of the regularization term to the final loss.\n",
        "\n",
        "Reimplement the L2 loss function using keras operations `K.sum()` and `K.square()`. Then check that you get similar results to those we obtained with keras loss function. "
      ]
    },
    {
      "cell_type": "code",
      "execution_count": null,
      "metadata": {
        "id": "-VFoBtx6m40O"
      },
      "outputs": [],
      "source": [
        "from tensorflow.keras import backend as K\n",
        "\n",
        "\n",
        "def l2_reg(weight_matrix, lmbd):\n",
        "    ### PUT YOUR CODE HERE ###\n",
        "    ### END ###\n",
        "    \n",
        "l2_custom_model = build_regularized_model(regularizer=(lambda w: l2_reg(w, 0.001)))\n",
        "l2_custom_model_hist = l2_custom_model.fit(partial_x_train, partial_y_train,\n",
        "                                           epochs=20,\n",
        "                                           batch_size=128,\n",
        "                                           validation_data=(x_val, y_val),\n",
        "                                           verbose=0)"
      ]
    },
    {
      "cell_type": "code",
      "execution_count": null,
      "metadata": {
        "id": "45AOEKjzm40O"
      },
      "outputs": [],
      "source": [
        "l2_custom_model_val_loss = l2_custom_model_hist.history['val_loss']\n",
        "\n",
        "plot_history(data_list=[original_val_loss, l2_model_val_loss, l2_custom_model_val_loss],\n",
        "             label_list=['Original model', 'L2-regularized model', 'L2-regularized model(custom)'],\n",
        "             title='Comparison of validation losses',\n",
        "             ylabel='Validation loss')"
      ]
    },
    {
      "cell_type": "markdown",
      "metadata": {
        "id": "4wH0X3Efm40P"
      },
      "source": [
        "### Exercise 6 - Adding dropout\n",
        "\n",
        "\n",
        "Dropout is one of the most effective and most commonly used regularization techniques for neural networks, developed by Hinton and his students at the University of Toronto. Dropout, applied to a layer, consists of randomly \"dropping out\" (i.e. setting to zero) a number of output features of the layer during training. Let's say a given layer would normally have returned a vector `[0.2, 0.5, 1.3, 0.8, 1.1]` for a given input sample during training; after applying dropout, this vector will have a few zero entries distributed at random, e.g. `[0, 0.5, 1.3, 0, 1.1]`. The \"dropout rate\" is the fraction of the features that are being zeroed-out; it is usually set between 0.2 and 0.5. At test time, no units are dropped out, and instead the layer's output values are scaled down by a factor equal to the dropout rate, so as to \n",
        "balance for the fact that more units are active than at training time.\n",
        "\n",
        "Consider a Numpy matrix containing the output of a layer, `layer_output`, of shape `(batch_size, features)`. At training time, we would be zero-ing out at random a fraction of the values in the matrix:\n",
        "\n",
        "``` python\n",
        "# At training time: we drop out 50% of the units in the output\n",
        "layer_output *= np.randint(0, high=2, size=layer_output.shape)\n",
        "```\n",
        "\n",
        "At test time, we would be scaling the output down by the dropout rate. Here we scale by 0.5 (because we were previous dropping half the \n",
        "units):\n",
        "\n",
        "``` python\n",
        "# At test time:\n",
        "layer_output *= 0.5\n",
        "```\n",
        "\n",
        "\n",
        "Note that this process can be implemented by doing both operations at training time and leaving the output unchanged at test time, which is \n",
        "often the way it is implemented in practice:\n",
        "\n",
        "``` python\n",
        "# At training time:\n",
        "layer_output *= np.randint(0, high=2, size=layer_output.shape)\n",
        "# Note that we are scaling *up* rather scaling *down* in this case\n",
        "layer_output /= 0.5\n",
        "```"
      ]
    },
    {
      "cell_type": "markdown",
      "metadata": {
        "id": "pz3GogcYm40P"
      },
      "source": [
        "\n",
        "This technique may seem strange and arbitrary. Why would this help reduce overfitting? Geoff Hinton has said that he was inspired, among \n",
        "other things, by a fraud prevention mechanism used by banks -- in his own words: _\"I went to my bank. The tellers kept changing and I asked \n",
        "one of them why. He said he didn’t know but they got moved around a lot. I figured it must be because it would require cooperation \n",
        "between employees to successfully defraud the bank. This made me realize that randomly removing a different subset of neurons on each \n",
        "example would prevent conspiracies and thus reduce overfitting\"_.\n",
        "\n",
        "The core idea is that introducing noise in the output values of a layer can break up happenstance patterns that are not significant (what \n",
        "Hinton refers to as \"conspiracies\"), which the network would start memorizing if no noise was present. \n",
        "\n",
        "In Keras you can introduce dropout in a network via the `Dropout` layer, which gets applied to the output of layer right before it, e.g.:"
      ]
    },
    {
      "cell_type": "code",
      "execution_count": null,
      "metadata": {
        "id": "azUPcc5am40Q"
      },
      "outputs": [],
      "source": [
        "model.add(layers.Dropout(0.4))"
      ]
    },
    {
      "cell_type": "markdown",
      "metadata": {
        "id": "99nizsvYm40Q"
      },
      "source": [
        "Let's modify the definition of our network building function to add two `Dropout` layers (after each hidden layer).</span>"
      ]
    },
    {
      "cell_type": "code",
      "execution_count": null,
      "metadata": {
        "id": "YAFN2syXm40Q"
      },
      "outputs": [],
      "source": [
        "def build_dropout_model(nb_units=16, dropout_rate=0.4):\n",
        "    ### PUT YOUR CODE HERE ###\n",
        "    ### END ###"
      ]
    },
    {
      "cell_type": "code",
      "execution_count": null,
      "metadata": {
        "id": "ge5X3bJFm40R"
      },
      "outputs": [],
      "source": [
        "dpt_model = build_dropout_model()\n",
        "dpt_model_hist = dpt_model.fit(partial_x_train, partial_y_train,\n",
        "                               epochs=20,\n",
        "                               batch_size=128,\n",
        "                               validation_data=(x_val, y_val),\n",
        "                               verbose=0)"
      ]
    },
    {
      "cell_type": "markdown",
      "metadata": {
        "id": "zgXv63rmm40R"
      },
      "source": [
        "Let's plot the results:"
      ]
    },
    {
      "cell_type": "code",
      "execution_count": null,
      "metadata": {
        "id": "U2puLrGYm40S"
      },
      "outputs": [],
      "source": [
        "dpt_model_val_loss = dpt_model_hist.history['val_loss']\n",
        "\n",
        "plot_history(data_list=[original_val_loss, dpt_model_val_loss],\n",
        "             label_list=['Original model', 'Dropout-regularized model'],\n",
        "             title='Comparison of validation losses',\n",
        "             ylabel='Validation loss')"
      ]
    },
    {
      "cell_type": "markdown",
      "metadata": {
        "id": "mhjlbTG5m40S"
      },
      "source": [
        "Again, a clear improvement over the reference network."
      ]
    },
    {
      "cell_type": "markdown",
      "metadata": {
        "id": "31HYQvnwm40S"
      },
      "source": [
        "## Further experiments\n",
        "\n",
        "You can try combining the different techniques we have seen today, or optimizing the hyperparameters (such as lambda or the dropout rate) to improve on the 84% of accuracy we got with the original model. How far can you get?"
      ]
    },
    {
      "cell_type": "markdown",
      "metadata": {
        "id": "TJ5-GMzqm40S"
      },
      "source": [
        "## Conclusions\n",
        "\n",
        "\n",
        "Here's what you should take away from today:\n",
        "\n",
        "* There's usually quite a bit of preprocessing you need to do on your raw data in order to be able to feed it -- as tensors -- into a neural network. In the case of sequences of words, they can be encoded as binary vectors -- but there are other (better) encoding options too. \n",
        "* As they get better on their training data, neural networks eventually start _overfitting_ and end up obtaining increasingly worse results on data never-seen-before. Make sure to always monitor performance on data that is outside of the training set.\n",
        "* The most common ways to prevent overfitting in neural networks are:\n",
        "  * Getting more training data.\n",
        "  * Reducing the capacity of the network.\n",
        "  * Early stopping\n",
        "  * Adding weight regularization.\n",
        "  * Adding dropout."
      ]
    }
  ],
  "metadata": {
    "colab": {
      "provenance": []
    },
    "kernelspec": {
      "display_name": "Python 3",
      "language": "python",
      "name": "python3"
    },
    "language_info": {
      "codemirror_mode": {
        "name": "ipython",
        "version": 3
      },
      "file_extension": ".py",
      "mimetype": "text/x-python",
      "name": "python",
      "nbconvert_exporter": "python",
      "pygments_lexer": "ipython3",
      "version": "3.11.5"
    },
    "vscode": {
      "interpreter": {
        "hash": "0d591c6e422414675974e227c13f5382000c440fedd3c5006ef2be5d887f0ba7"
      }
    }
  },
  "nbformat": 4,
  "nbformat_minor": 0
}
